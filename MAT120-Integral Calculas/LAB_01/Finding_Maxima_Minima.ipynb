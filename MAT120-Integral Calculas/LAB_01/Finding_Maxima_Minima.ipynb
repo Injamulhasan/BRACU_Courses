{
  "nbformat": 4,
  "nbformat_minor": 0,
  "metadata": {
    "colab": {
      "name": "Finding Maxima-Minima.ipynb",
      "provenance": [],
      "collapsed_sections": []
    },
    "kernelspec": {
      "name": "python3",
      "display_name": "Python 3"
    },
    "language_info": {
      "name": "python"
    }
  },
  "cells": [
    {
      "cell_type": "code",
      "execution_count": null,
      "metadata": {
        "id": "lmJ89FkXw0fr"
      },
      "outputs": [],
      "source": [
        "import math\n",
        "from sympy import*\n",
        "import numpy as np\n",
        "from sympy.solvers.solveset import solvify,solveset\n",
        "import matplotlib.pyplot as plt\n",
        "from numpy import log as ln"
      ]
    },
    {
      "cell_type": "code",
      "source": [
        "x,y=symbols('x y')\n",
        "y= 9 * x ** 3 - 7*x**2 +3*x + 10\n",
        "lv= -5\n",
        "uv = 6\n",
        "left_v=y.subs(x,lv)\n",
        "right_v=y.subs(x,uv)\n",
        "max_arr=np.array([[int(lv),left_v],[int(uv),right_v]])\n",
        "exp=y.diff(x)\n",
        "exp2=y.diff(x,2)\n",
        "cp=solvify(exp , x , S.Reals)\n",
        "ncp=len(cp)\n",
        "for i in range (ncp):\n",
        "  yv=y.subs(x,cp[i])\n",
        "  sub_v=exp2.subs(x,cp[i])\n",
        "  if sub_v>0:\n",
        "    print(c[i],\"Minima\")\n",
        "    ymin1=y.subs(x,cp[i])\n",
        "    np_arr2=np.areay([[cp[i],yMin]])\n",
        "    if cp[i]==int(lv) or cp[i]==int(uv):\n",
        "      continue\n",
        "    max_arr=np.append(max_arr,np_arr2,axis=0)\n",
        "  elif (sub_v<0):\n",
        "    print(cp[i],\"Mixima\")\n",
        "    ymax1=y.subs(x,cp[i])\n",
        "    np_arr2=np.areay([[cp[i],ymax1]])\n",
        "    if cp[i]==int(lv) or cp[i]==int(uv):\n",
        "      continue\n",
        "    max_arr=np.append(max_arr,np_arr2,axis=0)\n",
        "  else:\n",
        "    print(cp[i],'Nothing')\n",
        "foridx=max_arr[:,1]\n",
        "k=np.where(foridx==np.amin(foridx))\n",
        "print(\"Minima on\",lv,\"&\",uv, \"is\" , max_arr[k,1],\"at\",max_arr[k,0])\n",
        "k=np.where(foridx==np.max(max_arr[:,1]))\n",
        "print(\"Maxima on\",lv,\"&\",uv ,\"is\" , max_arr[k,1],\"at\",max_arr[k,0])"
      ],
      "metadata": {
        "colab": {
          "base_uri": "https://localhost:8080/"
        },
        "id": "p11hBSkB24PG",
        "outputId": "47b91218-5368-4fff-a8cd-7e00b7faac0a"
      },
      "execution_count": null,
      "outputs": [
        {
          "output_type": "stream",
          "name": "stdout",
          "text": [
            "Minima on -5 & 6 is [[-1305]] at [[-5]]\n",
            "Maxima on -5 & 6 is [[1720]] at [[6]]\n"
          ]
        }
      ]
    },
    {
      "cell_type": "code",
      "source": [
        "x,y=symbols('x y')\n",
        "y= ln(x)\n",
        "lv= -5\n",
        "uv = 6\n",
        "left_v=y.subs(x,lv)\n",
        "right_v=y.subs(x,uv)\n",
        "max_arr=np.array([[int(lv),left_v],[int(uv),right_v]])\n",
        "exp=y.diff(x)\n",
        "exp2=y.diff(x,2)\n",
        "cp=solvify(exp , x , S.Reals)\n",
        "ncp=len(cp)\n",
        "for i in range (ncp):\n",
        "  yv=y.subs(x,cp[i])\n",
        "  sub_v=exp2.subs(x,cp[i])\n",
        "  if sub_v>0:\n",
        "    print(c[i],\"Minima\")\n",
        "    ymin1=y.subs(x,cp[i])\n",
        "    np_arr2=np.areay([[cp[i],yMin]])\n",
        "    if cp[i]==int(lv) or cp[i]==int(uv):\n",
        "      continue\n",
        "    max_arr=np.append(max_arr,np_arr2,axis=0)\n",
        "  elif (sub_v<0):\n",
        "    print(cp[i],\"Mixima\")\n",
        "    ymax1=y.subs(x,cp[i])\n",
        "    np_arr2=np.areay([[cp[i],ymax1]])\n",
        "    if cp[i]==int(lv) or cp[i]==int(uv):\n",
        "      continue\n",
        "    max_arr=np.append(max_arr,np_arr2,axis=0)\n",
        "  else:\n",
        "    print(cp[i],'Nothing')\n",
        "foridx=max_arr[:,1]\n",
        "k=np.where(foridx==np.amin(foridx))\n",
        "print(\"Minima on\",lv,\"&\",uv, \"is\" , max_arr[k,1],\"at\",max_arr[k,0])\n",
        "k=np.where(foridx==np.max(max_arr[:,1]))\n",
        "print(\"Maxima on\",lv,\"&\",uv ,\"is\" , max_arr[k,1],\"at\",max_arr[k,0])"
      ],
      "metadata": {
        "colab": {
          "base_uri": "https://localhost:8080/",
          "height": 425
        },
        "id": "Ow15S13bYNXM",
        "outputId": "a49b6f08-a20d-4f0c-f47e-8ea26484731a"
      },
      "execution_count": null,
      "outputs": [
        {
          "output_type": "error",
          "ename": "TypeError",
          "evalue": "ignored",
          "traceback": [
            "\u001b[0;31m---------------------------------------------------------------------------\u001b[0m",
            "\u001b[0;31mTypeError\u001b[0m                                 Traceback (most recent call last)",
            "\u001b[0;32m<ipython-input-43-43bf7298b450>\u001b[0m in \u001b[0;36m<module>\u001b[0;34m()\u001b[0m\n\u001b[1;32m     30\u001b[0m     \u001b[0mprint\u001b[0m\u001b[0;34m(\u001b[0m\u001b[0mcp\u001b[0m\u001b[0;34m[\u001b[0m\u001b[0mi\u001b[0m\u001b[0;34m]\u001b[0m\u001b[0;34m,\u001b[0m\u001b[0;34m'Nothing'\u001b[0m\u001b[0;34m)\u001b[0m\u001b[0;34m\u001b[0m\u001b[0;34m\u001b[0m\u001b[0m\n\u001b[1;32m     31\u001b[0m \u001b[0mforidx\u001b[0m\u001b[0;34m=\u001b[0m\u001b[0mmax_arr\u001b[0m\u001b[0;34m[\u001b[0m\u001b[0;34m:\u001b[0m\u001b[0;34m,\u001b[0m\u001b[0;36m1\u001b[0m\u001b[0;34m]\u001b[0m\u001b[0;34m\u001b[0m\u001b[0;34m\u001b[0m\u001b[0m\n\u001b[0;32m---> 32\u001b[0;31m \u001b[0mk\u001b[0m\u001b[0;34m=\u001b[0m\u001b[0mnp\u001b[0m\u001b[0;34m.\u001b[0m\u001b[0mwhere\u001b[0m\u001b[0;34m(\u001b[0m\u001b[0mforidx\u001b[0m\u001b[0;34m==\u001b[0m\u001b[0mnp\u001b[0m\u001b[0;34m.\u001b[0m\u001b[0mamin\u001b[0m\u001b[0;34m(\u001b[0m\u001b[0mforidx\u001b[0m\u001b[0;34m)\u001b[0m\u001b[0;34m)\u001b[0m\u001b[0;34m\u001b[0m\u001b[0;34m\u001b[0m\u001b[0m\n\u001b[0m\u001b[1;32m     33\u001b[0m \u001b[0mprint\u001b[0m\u001b[0;34m(\u001b[0m\u001b[0;34m\"Minima on\"\u001b[0m\u001b[0;34m,\u001b[0m\u001b[0mlv\u001b[0m\u001b[0;34m,\u001b[0m\u001b[0;34m\"&\"\u001b[0m\u001b[0;34m,\u001b[0m\u001b[0muv\u001b[0m\u001b[0;34m,\u001b[0m \u001b[0;34m\"is\"\u001b[0m \u001b[0;34m,\u001b[0m \u001b[0mmax_arr\u001b[0m\u001b[0;34m[\u001b[0m\u001b[0mk\u001b[0m\u001b[0;34m,\u001b[0m\u001b[0;36m1\u001b[0m\u001b[0;34m]\u001b[0m\u001b[0;34m,\u001b[0m\u001b[0;34m\"at\"\u001b[0m\u001b[0;34m,\u001b[0m\u001b[0mmax_arr\u001b[0m\u001b[0;34m[\u001b[0m\u001b[0mk\u001b[0m\u001b[0;34m,\u001b[0m\u001b[0;36m0\u001b[0m\u001b[0;34m]\u001b[0m\u001b[0;34m)\u001b[0m\u001b[0;34m\u001b[0m\u001b[0;34m\u001b[0m\u001b[0m\n\u001b[1;32m     34\u001b[0m \u001b[0mk\u001b[0m\u001b[0;34m=\u001b[0m\u001b[0mnp\u001b[0m\u001b[0;34m.\u001b[0m\u001b[0mwhere\u001b[0m\u001b[0;34m(\u001b[0m\u001b[0mforidx\u001b[0m\u001b[0;34m==\u001b[0m\u001b[0mnp\u001b[0m\u001b[0;34m.\u001b[0m\u001b[0mmax\u001b[0m\u001b[0;34m(\u001b[0m\u001b[0mmax_arr\u001b[0m\u001b[0;34m[\u001b[0m\u001b[0;34m:\u001b[0m\u001b[0;34m,\u001b[0m\u001b[0;36m1\u001b[0m\u001b[0;34m]\u001b[0m\u001b[0;34m)\u001b[0m\u001b[0;34m)\u001b[0m\u001b[0;34m\u001b[0m\u001b[0;34m\u001b[0m\u001b[0m\n",
            "\u001b[0;32m<__array_function__ internals>\u001b[0m in \u001b[0;36mamin\u001b[0;34m(*args, **kwargs)\u001b[0m\n",
            "\u001b[0;32m/usr/local/lib/python3.7/dist-packages/numpy/core/fromnumeric.py\u001b[0m in \u001b[0;36mamin\u001b[0;34m(a, axis, out, keepdims, initial, where)\u001b[0m\n\u001b[1;32m   2878\u001b[0m     \"\"\"\n\u001b[1;32m   2879\u001b[0m     return _wrapreduction(a, np.minimum, 'min', axis, None, out,\n\u001b[0;32m-> 2880\u001b[0;31m                           keepdims=keepdims, initial=initial, where=where)\n\u001b[0m\u001b[1;32m   2881\u001b[0m \u001b[0;34m\u001b[0m\u001b[0m\n\u001b[1;32m   2882\u001b[0m \u001b[0;34m\u001b[0m\u001b[0m\n",
            "\u001b[0;32m/usr/local/lib/python3.7/dist-packages/numpy/core/fromnumeric.py\u001b[0m in \u001b[0;36m_wrapreduction\u001b[0;34m(obj, ufunc, method, axis, dtype, out, **kwargs)\u001b[0m\n\u001b[1;32m     84\u001b[0m                 \u001b[0;32mreturn\u001b[0m \u001b[0mreduction\u001b[0m\u001b[0;34m(\u001b[0m\u001b[0maxis\u001b[0m\u001b[0;34m=\u001b[0m\u001b[0maxis\u001b[0m\u001b[0;34m,\u001b[0m \u001b[0mout\u001b[0m\u001b[0;34m=\u001b[0m\u001b[0mout\u001b[0m\u001b[0;34m,\u001b[0m \u001b[0;34m**\u001b[0m\u001b[0mpasskwargs\u001b[0m\u001b[0;34m)\u001b[0m\u001b[0;34m\u001b[0m\u001b[0;34m\u001b[0m\u001b[0m\n\u001b[1;32m     85\u001b[0m \u001b[0;34m\u001b[0m\u001b[0m\n\u001b[0;32m---> 86\u001b[0;31m     \u001b[0;32mreturn\u001b[0m \u001b[0mufunc\u001b[0m\u001b[0;34m.\u001b[0m\u001b[0mreduce\u001b[0m\u001b[0;34m(\u001b[0m\u001b[0mobj\u001b[0m\u001b[0;34m,\u001b[0m \u001b[0maxis\u001b[0m\u001b[0;34m,\u001b[0m \u001b[0mdtype\u001b[0m\u001b[0;34m,\u001b[0m \u001b[0mout\u001b[0m\u001b[0;34m,\u001b[0m \u001b[0;34m**\u001b[0m\u001b[0mpasskwargs\u001b[0m\u001b[0;34m)\u001b[0m\u001b[0;34m\u001b[0m\u001b[0;34m\u001b[0m\u001b[0m\n\u001b[0m\u001b[1;32m     87\u001b[0m \u001b[0;34m\u001b[0m\u001b[0m\n\u001b[1;32m     88\u001b[0m \u001b[0;34m\u001b[0m\u001b[0m\n",
            "\u001b[0;32m/usr/local/lib/python3.7/dist-packages/sympy/core/decorators.py\u001b[0m in \u001b[0;36m_func\u001b[0;34m(self, other)\u001b[0m\n\u001b[1;32m    265\u001b[0m             \u001b[0;32mif\u001b[0m \u001b[0;32mnot\u001b[0m \u001b[0misinstance\u001b[0m\u001b[0;34m(\u001b[0m\u001b[0mother\u001b[0m\u001b[0;34m,\u001b[0m \u001b[0mexpectedcls\u001b[0m\u001b[0;34m)\u001b[0m\u001b[0;34m:\u001b[0m\u001b[0;34m\u001b[0m\u001b[0;34m\u001b[0m\u001b[0m\n\u001b[1;32m    266\u001b[0m                 \u001b[0;32mreturn\u001b[0m \u001b[0mretval\u001b[0m\u001b[0;34m\u001b[0m\u001b[0;34m\u001b[0m\u001b[0m\n\u001b[0;32m--> 267\u001b[0;31m             \u001b[0;32mreturn\u001b[0m \u001b[0mfunc\u001b[0m\u001b[0;34m(\u001b[0m\u001b[0mself\u001b[0m\u001b[0;34m,\u001b[0m \u001b[0mother\u001b[0m\u001b[0;34m)\u001b[0m\u001b[0;34m\u001b[0m\u001b[0;34m\u001b[0m\u001b[0m\n\u001b[0m\u001b[1;32m    268\u001b[0m \u001b[0;34m\u001b[0m\u001b[0m\n\u001b[1;32m    269\u001b[0m         \u001b[0;32mreturn\u001b[0m \u001b[0m_func\u001b[0m\u001b[0;34m\u001b[0m\u001b[0;34m\u001b[0m\u001b[0m\n",
            "\u001b[0;32m/usr/local/lib/python3.7/dist-packages/sympy/core/expr.py\u001b[0m in \u001b[0;36m__le__\u001b[0;34m(self, other)\u001b[0m\n\u001b[1;32m    363\u001b[0m     \u001b[0;32mdef\u001b[0m \u001b[0m__le__\u001b[0m\u001b[0;34m(\u001b[0m\u001b[0mself\u001b[0m\u001b[0;34m,\u001b[0m \u001b[0mother\u001b[0m\u001b[0;34m)\u001b[0m\u001b[0;34m:\u001b[0m\u001b[0;34m\u001b[0m\u001b[0;34m\u001b[0m\u001b[0m\n\u001b[1;32m    364\u001b[0m         \u001b[0;32mfrom\u001b[0m \u001b[0;34m.\u001b[0m\u001b[0mrelational\u001b[0m \u001b[0;32mimport\u001b[0m \u001b[0mLessThan\u001b[0m\u001b[0;34m\u001b[0m\u001b[0;34m\u001b[0m\u001b[0m\n\u001b[0;32m--> 365\u001b[0;31m         \u001b[0;32mreturn\u001b[0m \u001b[0mLessThan\u001b[0m\u001b[0;34m(\u001b[0m\u001b[0mself\u001b[0m\u001b[0;34m,\u001b[0m \u001b[0mother\u001b[0m\u001b[0;34m)\u001b[0m\u001b[0;34m\u001b[0m\u001b[0;34m\u001b[0m\u001b[0m\n\u001b[0m\u001b[1;32m    366\u001b[0m \u001b[0;34m\u001b[0m\u001b[0m\n\u001b[1;32m    367\u001b[0m     \u001b[0;34m@\u001b[0m\u001b[0msympify_return\u001b[0m\u001b[0;34m(\u001b[0m\u001b[0;34m[\u001b[0m\u001b[0;34m(\u001b[0m\u001b[0;34m'other'\u001b[0m\u001b[0;34m,\u001b[0m \u001b[0;34m'Expr'\u001b[0m\u001b[0;34m)\u001b[0m\u001b[0;34m]\u001b[0m\u001b[0;34m,\u001b[0m \u001b[0mNotImplemented\u001b[0m\u001b[0;34m)\u001b[0m\u001b[0;34m\u001b[0m\u001b[0;34m\u001b[0m\u001b[0m\n",
            "\u001b[0;32m/usr/local/lib/python3.7/dist-packages/sympy/core/relational.py\u001b[0m in \u001b[0;36m__new__\u001b[0;34m(cls, lhs, rhs, **options)\u001b[0m\n\u001b[1;32m    698\u001b[0m             \u001b[0;32mfor\u001b[0m \u001b[0mme\u001b[0m \u001b[0;32min\u001b[0m \u001b[0;34m(\u001b[0m\u001b[0mlhs\u001b[0m\u001b[0;34m,\u001b[0m \u001b[0mrhs\u001b[0m\u001b[0;34m)\u001b[0m\u001b[0;34m:\u001b[0m\u001b[0;34m\u001b[0m\u001b[0;34m\u001b[0m\u001b[0m\n\u001b[1;32m    699\u001b[0m                 \u001b[0;32mif\u001b[0m \u001b[0mme\u001b[0m\u001b[0;34m.\u001b[0m\u001b[0mis_extended_real\u001b[0m \u001b[0;32mis\u001b[0m \u001b[0;32mFalse\u001b[0m\u001b[0;34m:\u001b[0m\u001b[0;34m\u001b[0m\u001b[0;34m\u001b[0m\u001b[0m\n\u001b[0;32m--> 700\u001b[0;31m                     \u001b[0;32mraise\u001b[0m \u001b[0mTypeError\u001b[0m\u001b[0;34m(\u001b[0m\u001b[0;34m\"Invalid comparison of non-real %s\"\u001b[0m \u001b[0;34m%\u001b[0m \u001b[0mme\u001b[0m\u001b[0;34m)\u001b[0m\u001b[0;34m\u001b[0m\u001b[0;34m\u001b[0m\u001b[0m\n\u001b[0m\u001b[1;32m    701\u001b[0m                 \u001b[0;32mif\u001b[0m \u001b[0mme\u001b[0m \u001b[0;32mis\u001b[0m \u001b[0mS\u001b[0m\u001b[0;34m.\u001b[0m\u001b[0mNaN\u001b[0m\u001b[0;34m:\u001b[0m\u001b[0;34m\u001b[0m\u001b[0;34m\u001b[0m\u001b[0m\n\u001b[1;32m    702\u001b[0m                     \u001b[0;32mraise\u001b[0m \u001b[0mTypeError\u001b[0m\u001b[0;34m(\u001b[0m\u001b[0;34m\"Invalid NaN comparison\"\u001b[0m\u001b[0;34m)\u001b[0m\u001b[0;34m\u001b[0m\u001b[0;34m\u001b[0m\u001b[0m\n",
            "\u001b[0;31mTypeError\u001b[0m: Invalid comparison of non-real log(5) + I*pi"
          ]
        }
      ]
    },
    {
      "cell_type": "code",
      "source": [
        "x,y=symbols('x y')\n",
        "y= sin(x)\n",
        "lv= -5\n",
        "uv = 6\n",
        "left_v=y.subs(x,lv)\n",
        "right_v=y.subs(x,uv)\n",
        "max_arr=np.array([[int(lv),left_v],[int(uv),right_v]])\n",
        "exp=y.diff(x)\n",
        "exp2=y.diff(x,2)\n",
        "cp=solvify(exp , x , S.Reals)\n",
        "ncp=len(cp)\n",
        "for i in range (ncp):\n",
        "  yv=y.subs(x,cp[i])\n",
        "  sub_v=exp2.subs(x,cp[i])\n",
        "  if sub_v>0:\n",
        "    print(c[i],\"Minima\")\n",
        "    ymin1=y.subs(x,cp[i])\n",
        "    np_arr2=np.areay([[cp[i],yMin]])\n",
        "    if cp[i]==int(lv) or cp[i]==int(uv):\n",
        "      continue\n",
        "    max_arr=np.append(max_arr,np_arr2,axis=0)\n",
        "  elif (sub_v<0):\n",
        "    print(cp[i],\"Mixima\")\n",
        "    ymax1=y.subs(x,cp[i])\n",
        "    np_arr2=np.areay([[cp[i],ymax1]])\n",
        "    if cp[i]==int(lv) or cp[i]==int(uv):\n",
        "      continue\n",
        "    max_arr=np.append(max_arr,np_arr2,axis=0)\n",
        "  else:\n",
        "    print(cp[i],'Nothing')\n",
        "foridx=max_arr[:,1]\n",
        "k=np.where(foridx==np.amin(foridx))\n",
        "print(\"Minima on\",lv,\"&\",uv, \"is\" , max_arr[k,1],\"at\",max_arr[k,0])\n",
        "k=np.where(foridx==np.max(max_arr[:,1]))\n",
        "print(\"Maxima on\",lv,\"&\",uv ,\"is\" , max_arr[k,1],\"at\",max_arr[k,0])"
      ],
      "metadata": {
        "id": "qi1-zVdaYNnC"
      },
      "execution_count": null,
      "outputs": []
    },
    {
      "cell_type": "code",
      "source": [
        "x,y=symbols('x y')\n",
        "y= cos(x)\n",
        "lv= -5\n",
        "uv = 6\n",
        "left_v=y.subs(x,lv)\n",
        "right_v=y.subs(x,uv)\n",
        "max_arr=np.array([[int(lv),left_v],[int(uv),right_v]])\n",
        "exp=y.diff(x)\n",
        "exp2=y.diff(x,2)\n",
        "cp=solvify(exp , x , S.Reals)\n",
        "ncp=len(cp)\n",
        "for i in range (ncp):\n",
        "  yv=y.subs(x,cp[i])\n",
        "  sub_v=exp2.subs(x,cp[i])\n",
        "  if sub_v>0:\n",
        "    print(c[i],\"Minima\")\n",
        "    ymin1=y.subs(x,cp[i])\n",
        "    np_arr2=np.areay([[cp[i],yMin]])\n",
        "    if cp[i]==int(lv) or cp[i]==int(uv):\n",
        "      continue\n",
        "    max_arr=np.append(max_arr,np_arr2,axis=0)\n",
        "  elif (sub_v<0):\n",
        "    print(cp[i],\"Mixima\")\n",
        "    ymax1=y.subs(x,cp[i])\n",
        "    np_arr2=np.areay([[cp[i],ymax1]])\n",
        "    if cp[i]==int(lv) or cp[i]==int(uv):\n",
        "      continue\n",
        "    max_arr=np.append(max_arr,np_arr2,axis=0)\n",
        "  else:\n",
        "    print(cp[i],'Nothing')\n",
        "foridx=max_arr[:,1]\n",
        "k=np.where(foridx==np.amin(foridx))\n",
        "print(\"Minima on\",lv,\"&\",uv, \"is\" , max_arr[k,1],\"at\",max_arr[k,0])\n",
        "k=np.where(foridx==np.max(max_arr[:,1]))\n",
        "print(\"Maxima on\",lv,\"&\",uv ,\"is\" , max_arr[k,1],\"at\",max_arr[k,0])"
      ],
      "metadata": {
        "id": "ZnVK8pZGYNt6"
      },
      "execution_count": null,
      "outputs": []
    },
    {
      "cell_type": "code",
      "source": [
        "x,y=symbols('x y')\n",
        "y= tan(x)\n",
        "lv= -5\n",
        "uv = 6\n",
        "left_v=y.subs(x,lv)\n",
        "right_v=y.subs(x,uv)\n",
        "max_arr=np.array([[int(lv),left_v],[int(uv),right_v]])\n",
        "exp=y.diff(x)\n",
        "exp2=y.diff(x,2)\n",
        "cp=solvify(exp , x , S.Reals)\n",
        "ncp=len(cp)\n",
        "for i in range (ncp):\n",
        "  yv=y.subs(x,cp[i])\n",
        "  sub_v=exp2.subs(x,cp[i])\n",
        "  if sub_v>0:\n",
        "    print(c[i],\"Minima\")\n",
        "    ymin1=y.subs(x,cp[i])\n",
        "    np_arr2=np.areay([[cp[i],yMin]])\n",
        "    if cp[i]==int(lv) or cp[i]==int(uv):\n",
        "      continue\n",
        "    max_arr=np.append(max_arr,np_arr2,axis=0)\n",
        "  elif (sub_v<0):\n",
        "    print(cp[i],\"Mixima\")\n",
        "    ymax1=y.subs(x,cp[i])\n",
        "    np_arr2=np.areay([[cp[i],ymax1]])\n",
        "    if cp[i]==int(lv) or cp[i]==int(uv):\n",
        "      continue\n",
        "    max_arr=np.append(max_arr,np_arr2,axis=0)\n",
        "  else:\n",
        "    print(cp[i],'Nothing')\n",
        "foridx=max_arr[:,1]\n",
        "k=np.where(foridx==np.amin(foridx))\n",
        "print(\"Minima on\",lv,\"&\",uv, \"is\" , max_arr[k,1],\"at\",max_arr[k,0])\n",
        "k=np.where(foridx==np.max(max_arr[:,1]))\n",
        "print(\"Maxima on\",lv,\"&\",uv ,\"is\" , max_arr[k,1],\"at\",max_arr[k,0])"
      ],
      "metadata": {
        "id": "UYm2B_neYNxN"
      },
      "execution_count": null,
      "outputs": []
    },
    {
      "cell_type": "code",
      "source": [
        ""
      ],
      "metadata": {
        "id": "3-1kBrnKYN7z"
      },
      "execution_count": null,
      "outputs": []
    }
  ]
}